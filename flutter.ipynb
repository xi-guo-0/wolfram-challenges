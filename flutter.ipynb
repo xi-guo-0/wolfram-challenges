{
 "cells": [
  {
   "cell_type": "code",
   "execution_count": null,
   "id": "0346349b-a11c-46ba-875a-89b95179c27b",
   "metadata": {},
   "outputs": [],
   "source": [
    "Flutter[f_,x_,list_List]:= Map[f[x, #] &, list]"
   ]
  },
  {
   "cell_type": "code",
   "execution_count": null,
   "id": "47323222-2478-48a5-a8b2-cdae71e7fc2a",
   "metadata": {},
   "outputs": [],
   "source": [
    "Flutter[Subtract,{1,2},{5,19,2}]"
   ]
  }
 ],
 "metadata": {
  "kernelspec": {
   "display_name": "Wolfram Language 14",
   "language": "Wolfram Language",
   "name": "wolframlanguage14"
  },
  "language_info": {
   "codemirror_mode": "mathematica",
   "file_extension": ".m",
   "mimetype": "application/vnd.wolfram.m",
   "name": "Wolfram Language",
   "pygments_lexer": "mathematica",
   "version": "12.0"
  }
 },
 "nbformat": 4,
 "nbformat_minor": 5
}
