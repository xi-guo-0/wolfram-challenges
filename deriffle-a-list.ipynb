{
 "cells": [
  {
   "cell_type": "code",
   "execution_count": null,
   "id": "df7b71ea-cedb-4660-ae0a-63fb1ed22ea8",
   "metadata": {},
   "outputs": [],
   "source": [
    "Deriffle[s_List] := Module[{list1 = {}, list2 = {}},\n",
    "  Do[\n",
    "    If[EvenQ[i],\n",
    "      AppendTo[list2, s[[i]]],\n",
    "      AppendTo[list1, s[[i]]]\n",
    "    ],\n",
    "    {i, Length[s]}\n",
    "  ];\n",
    "  {list1, list2}\n",
    "]"
   ]
  }
 ],
 "metadata": {
  "kernelspec": {
   "display_name": "Wolfram Language 14",
   "language": "Wolfram Language",
   "name": "wolframlanguage14"
  },
  "language_info": {
   "name": ""
  }
 },
 "nbformat": 4,
 "nbformat_minor": 5
}
