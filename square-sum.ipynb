{
 "cells": [
  {
   "cell_type": "code",
   "execution_count": null,
   "id": "45338d66-c6f7-4c9c-952d-d6f0d94b57cf",
   "metadata": {},
   "outputs": [],
   "source": [
    "SquareSum[n_Integer]/;n>0 := Module[{result = 0},\n",
    "  Do[\n",
    "    result = (result + i)^2,\n",
    "    {i, n}\n",
    "  ];\n",
    "  result\n",
    "]"
   ]
  },
  {
   "cell_type": "code",
   "execution_count": null,
   "id": "ac87bfbc-338e-4e66-94c8-0e4f522c35e7",
   "metadata": {},
   "outputs": [],
   "source": [
    "SquareSum[3]"
   ]
  }
 ],
 "metadata": {
  "kernelspec": {
   "display_name": "Wolfram Language 14",
   "language": "Wolfram Language",
   "name": "wolframlanguage14"
  },
  "language_info": {
   "codemirror_mode": "mathematica",
   "file_extension": ".m",
   "mimetype": "application/vnd.wolfram.m",
   "name": "Wolfram Language",
   "pygments_lexer": "mathematica",
   "version": "12.0"
  }
 },
 "nbformat": 4,
 "nbformat_minor": 5
}
