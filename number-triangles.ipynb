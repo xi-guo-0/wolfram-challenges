{
 "cells": [
  {
   "cell_type": "code",
   "execution_count": null,
   "id": "90dc125c-b061-4ddf-b4d5-86a97fe5b512",
   "metadata": {},
   "outputs": [],
   "source": [
    "NumberTriangle[n_Integer?Positive] := Column[Table[Range[i], {i, 1, n}]]"
   ]
  },
  {
   "cell_type": "code",
   "execution_count": null,
   "id": "7597096b-a7d7-4343-9a8e-e0a22bce7784",
   "metadata": {},
   "outputs": [],
   "source": [
    "NumberTriangle[3]"
   ]
  }
 ],
 "metadata": {
  "kernelspec": {
   "display_name": "Wolfram Language 14",
   "language": "Wolfram Language",
   "name": "wolframlanguage14"
  },
  "language_info": {
   "codemirror_mode": "mathematica",
   "file_extension": ".m",
   "mimetype": "application/vnd.wolfram.m",
   "name": "Wolfram Language",
   "pygments_lexer": "mathematica",
   "version": "12.0"
  }
 },
 "nbformat": 4,
 "nbformat_minor": 5
}
