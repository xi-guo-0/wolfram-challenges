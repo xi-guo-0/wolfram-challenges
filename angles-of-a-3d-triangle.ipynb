{
 "cells": [
  {
   "cell_type": "code",
   "execution_count": null,
   "id": "c109c6df-2c56-4471-90d5-d2a135f4e634",
   "metadata": {
    "vscode": {
     "languageId": "wolfram language"
    }
   },
   "outputs": [],
   "source": [
    "ThreeAngles[{p_,q_,r_}]:= Module[\n",
    "    {a, b, c, alpha, beta, gamma},\n",
    "    a = Norm[q - r];\n",
    "    b = Norm[p - r];\n",
    "    c = Norm[p - q];\n",
    "    \n",
    "    alpha = ArcCos[(b^2 + c^2 - a^2)/(2*b*c)];\n",
    "    beta = ArcCos[(a^2 + c^2 - b^2)/(2*a*c)];\n",
    "    gamma = ArcCos[(a^2 + b^2 - c^2)/(2*a*b)];\n",
    "    \n",
    "    Sort[{alpha, beta, gamma}] * 180 / Pi\n",
    "]"
   ]
  },
  {
   "cell_type": "code",
   "execution_count": null,
   "id": "3cb2318d-80f9-4a72-9296-f4ed695a382c",
   "metadata": {
    "vscode": {
     "languageId": "wolfram language"
    }
   },
   "outputs": [],
   "source": [
    "ThreeAngles[{{1,2,0},{2,1,0},{0,1,2}}]"
   ]
  },
  {
   "cell_type": "code",
   "execution_count": null,
   "id": "858a37bb-dee0-443b-b322-e5ea66a407af",
   "metadata": {},
   "outputs": [],
   "source": [
    "ThreeAngles[{{0.4,0.8,0.0},{0.8,-0.5,-0.1},{-0.4,-0.1,0.9}}]"
   ]
  }
 ],
 "metadata": {
  "kernelspec": {
   "display_name": "Wolfram Language 14",
   "language": "Wolfram Language",
   "name": "wolframlanguage14"
  },
  "language_info": {
   "codemirror_mode": "mathematica",
   "file_extension": ".m",
   "mimetype": "application/vnd.wolfram.m",
   "name": "Wolfram Language",
   "pygments_lexer": "mathematica",
   "version": "12.0"
  }
 },
 "nbformat": 4,
 "nbformat_minor": 5
}
