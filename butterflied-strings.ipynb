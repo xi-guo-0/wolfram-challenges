{
 "cells": [
  {
   "cell_type": "code",
   "execution_count": null,
   "id": "af908842-9345-4a37-a7c9-6b56dc9bc623",
   "metadata": {},
   "outputs": [],
   "source": [
    "ButterflyString[str_String]:= StringJoin[str, StringReverse[str]]"
   ]
  },
  {
   "cell_type": "code",
   "execution_count": null,
   "id": "7c77c963-1f7a-4ed6-bde0-d29613a3d439",
   "metadata": {},
   "outputs": [],
   "source": [
    "ButterflyString[\"butterfly\"]"
   ]
  }
 ],
 "metadata": {
  "kernelspec": {
   "display_name": "Wolfram Language 14",
   "language": "Wolfram Language",
   "name": "wolframlanguage14"
  },
  "language_info": {
   "codemirror_mode": "mathematica",
   "file_extension": ".m",
   "mimetype": "application/vnd.wolfram.m",
   "name": "Wolfram Language",
   "pygments_lexer": "mathematica",
   "version": "12.0"
  }
 },
 "nbformat": 4,
 "nbformat_minor": 5
}
