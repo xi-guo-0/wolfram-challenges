{
 "cells": [
  {
   "cell_type": "code",
   "execution_count": null,
   "id": "3fa7853f-ae76-4a96-b19b-30d803b49bb7",
   "metadata": {},
   "outputs": [],
   "source": [
    "ThreeFive[n_Integer] /; n > 0 := Floor[n / 15]"
   ]
  },
  {
   "cell_type": "code",
   "execution_count": null,
   "id": "90a64d53-af6e-4f4c-8472-216539373a71",
   "metadata": {},
   "outputs": [],
   "source": [
    "ThreeFive[50]"
   ]
  }
 ],
 "metadata": {
  "kernelspec": {
   "display_name": "Wolfram Language 14",
   "language": "Wolfram Language",
   "name": "wolframlanguage14"
  },
  "language_info": {
   "codemirror_mode": "mathematica",
   "file_extension": ".m",
   "mimetype": "application/vnd.wolfram.m",
   "name": "Wolfram Language",
   "pygments_lexer": "mathematica",
   "version": "12.0"
  }
 },
 "nbformat": 4,
 "nbformat_minor": 5
}
