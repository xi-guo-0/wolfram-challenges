{
 "cells": [
  {
   "cell_type": "code",
   "execution_count": null,
   "id": "89c6b2c3-49c2-44b8-88bc-c493649c3b68",
   "metadata": {},
   "outputs": [],
   "source": [
    "fizzBuzz[n_Integer] := Table[\n",
    "  Which[\n",
    "    Mod[i, 3] == 0 && Mod[i, 5] == 0, \"fizzbuzz\",\n",
    "    Mod[i, 3] == 0, \"fizz\",\n",
    "    Mod[i, 5] == 0, \"buzz\",\n",
    "    True, i\n",
    "  ],\n",
    "  {i, 1, n}\n",
    "]"
   ]
  },
  {
   "cell_type": "code",
   "execution_count": null,
   "id": "371b6c85-a0fa-4c3a-8544-d6ed4fee4e38",
   "metadata": {},
   "outputs": [],
   "source": [
    "fizzBuzz[7]"
   ]
  }
 ],
 "metadata": {
  "kernelspec": {
   "display_name": "Wolfram Language 14",
   "language": "Wolfram Language",
   "name": "wolframlanguage14"
  },
  "language_info": {
   "codemirror_mode": "mathematica",
   "file_extension": ".m",
   "mimetype": "application/vnd.wolfram.m",
   "name": "Wolfram Language",
   "pygments_lexer": "mathematica",
   "version": "12.0"
  }
 },
 "nbformat": 4,
 "nbformat_minor": 5
}
