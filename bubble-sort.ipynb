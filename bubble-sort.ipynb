{
 "cells": [
  {
   "cell_type": "code",
   "execution_count": null,
   "id": "f961391f-4de0-423c-bd4a-f646de36b311",
   "metadata": {},
   "outputs": [],
   "source": [
    "BubbleSortSteps[list : {__Integer}] := Module[{steps = {}, currentList = list, n = Length[list], swapped, temp},\n",
    "  AppendTo[steps, currentList];\n",
    "  swapped = True;\n",
    "  While[swapped,\n",
    "   swapped = False;\n",
    "   Do[\n",
    "    If[currentList[[j]] > currentList[[j + 1]],\n",
    "     temp = currentList[[j]];\n",
    "     currentList[[j]] = currentList[[j + 1]];\n",
    "     currentList[[j + 1]] = temp;\n",
    "     swapped = True;\n",
    "     AppendTo[steps, currentList]\n",
    "     ],\n",
    "    {j, 1, n - 1}\n",
    "    ];\n",
    "   ];\n",
    "  steps\n",
    "]"
   ]
  },
  {
   "cell_type": "code",
   "execution_count": null,
   "id": "5162fa19-5fca-463c-a768-a512529789a9",
   "metadata": {},
   "outputs": [],
   "source": [
    "BubbleSortSteps[{247,275,288,297,493}]"
   ]
  }
 ],
 "metadata": {
  "kernelspec": {
   "display_name": "Wolfram Language 14",
   "language": "Wolfram Language",
   "name": "wolframlanguage14"
  },
  "language_info": {
   "codemirror_mode": "mathematica",
   "file_extension": ".m",
   "mimetype": "application/vnd.wolfram.m",
   "name": "Wolfram Language",
   "pygments_lexer": "mathematica",
   "version": "12.0"
  }
 },
 "nbformat": 4,
 "nbformat_minor": 5
}
