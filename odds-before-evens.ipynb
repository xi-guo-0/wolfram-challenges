{
 "cells": [
  {
   "cell_type": "code",
   "execution_count": null,
   "id": "e98308d7-ac32-4f87-a4f8-bcd02fb4481d",
   "metadata": {},
   "outputs": [],
   "source": [
    "OddBeforeEven[list:{__Integer}]:= Module[{oddList, evenList},\n",
    "  oddList = Select[list, OddQ];\n",
    "  evenList = Select[list, EvenQ];\n",
    "  Join[oddList, evenList]\n",
    "]"
   ]
  },
  {
   "cell_type": "code",
   "execution_count": null,
   "id": "4c46be9b-3aca-48c1-9564-f40d4ca827e3",
   "metadata": {},
   "outputs": [],
   "source": [
    "OddBeforeEven[{-1,2,8,-9,-2,-3,-6,-10,-8,5,7,9,7}]"
   ]
  }
 ],
 "metadata": {
  "kernelspec": {
   "display_name": "Wolfram Language 14",
   "language": "Wolfram Language",
   "name": "wolframlanguage14"
  },
  "language_info": {
   "codemirror_mode": "mathematica",
   "file_extension": ".m",
   "mimetype": "application/vnd.wolfram.m",
   "name": "Wolfram Language",
   "pygments_lexer": "mathematica",
   "version": "12.0"
  }
 },
 "nbformat": 4,
 "nbformat_minor": 5
}
