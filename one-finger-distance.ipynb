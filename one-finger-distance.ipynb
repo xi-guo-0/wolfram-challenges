{
 "cells": [
  {
   "cell_type": "code",
   "execution_count": null,
   "id": "74744b5d-6cea-420e-84e0-9b5f95fee55a",
   "metadata": {},
   "outputs": [],
   "source": [
    "OneFingerDistance[s_String?LowerCaseQ]:= Module[{positions, distances},\n",
    "    positions = ToCharacterCode[s] - First[ToCharacterCode[\"a\"]] + 1;\n",
    "    distances = Abs[Differences[positions]] - 1;\n",
    "    distances = Replace[distances, x_ /; x < 0 -> 0, {1}];\n",
    "    Total[distances]\n",
    "]"
   ]
  },
  {
   "cell_type": "code",
   "execution_count": null,
   "id": "bd94f820-b829-4032-9a29-8da86cc7b2f5",
   "metadata": {},
   "outputs": [],
   "source": [
    "OneFingerDistance[\"boost\"]"
   ]
  },
  {
   "cell_type": "code",
   "execution_count": null,
   "id": "55373128-aed5-46ab-a2e0-cabc2ddf4f8c",
   "metadata": {},
   "outputs": [],
   "source": [
    "OneFingerDistance[\"addage\"]"
   ]
  }
 ],
 "metadata": {
  "kernelspec": {
   "display_name": "Wolfram Language 14",
   "language": "Wolfram Language",
   "name": "wolframlanguage14"
  },
  "language_info": {
   "codemirror_mode": "mathematica",
   "file_extension": ".m",
   "mimetype": "application/vnd.wolfram.m",
   "name": "Wolfram Language",
   "pygments_lexer": "mathematica",
   "version": "12.0"
  }
 },
 "nbformat": 4,
 "nbformat_minor": 5
}
